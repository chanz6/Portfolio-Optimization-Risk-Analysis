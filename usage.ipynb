{
 "cells": [
  {
   "cell_type": "code",
   "execution_count": null,
   "metadata": {},
   "outputs": [],
   "source": [
    "%run main.ipynb\n",
    "%load_ext autoreload\n",
    "%autoreload 2"
   ]
  },
  {
   "cell_type": "code",
   "execution_count": null,
   "metadata": {},
   "outputs": [],
   "source": [
    "# enter portfolio information here\n",
    "stocks = []\n",
    "weights = []"
   ]
  },
  {
   "cell_type": "markdown",
   "metadata": {},
   "source": [
    "**Example:** If this is my current stock portfolio:\n",
    "\n",
    "| Stock | Weight |\n",
    "|-|-|\n",
    "| NVDA | 10% |\n",
    "| MA | 70% |\n",
    "| NFLX | 5% |\n",
    "| CMG | 7% |\n",
    "| MNST | 8% |\n",
    "\n",
    "then my inputs would be,\n",
    "\n",
    "```\n",
    "stocks = ['NVDA', 'MA', 'NFLX', 'CMG', 'MNST']\n",
    "weights = [0.10, 0.70, 0.05, 0.07, 0.08]\n",
    "```\n"
   ]
  },
  {
   "cell_type": "code",
   "execution_count": null,
   "metadata": {},
   "outputs": [],
   "source": [
    "# run this cell to see initial portfolio metrics\n",
    "display = initial_analysis(stocks, weights)\n",
    "display"
   ]
  },
  {
   "cell_type": "code",
   "execution_count": null,
   "metadata": {},
   "outputs": [],
   "source": [
    "# run this cell to see optimized portfolio metrics\n",
    "optimized_display = final_analysis(stocks, weights)\n",
    "optimized_display"
   ]
  }
 ],
 "metadata": {
  "kernelspec": {
   "display_name": "base",
   "language": "python",
   "name": "python3"
  },
  "language_info": {
   "codemirror_mode": {
    "name": "ipython",
    "version": 3
   },
   "file_extension": ".py",
   "mimetype": "text/x-python",
   "name": "python",
   "nbconvert_exporter": "python",
   "pygments_lexer": "ipython3",
   "version": "3.12.7"
  }
 },
 "nbformat": 4,
 "nbformat_minor": 2
}
